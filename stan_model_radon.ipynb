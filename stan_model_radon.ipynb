{
 "cells": [
  {
   "cell_type": "markdown",
   "metadata": {},
   "source": [
    "# Bayesian Multilevel Modelling using PyStan\n",
    "\n",
    "Folowing through Chris Fonnesbeck's [primer on using PyStan with Bayesian Multilevel Modelling](http://mc-stan.org/documentation/case-studies/radon.html)."
   ]
  },
  {
   "cell_type": "markdown",
   "metadata": {},
   "source": [
    "* *Multilevel model*: a regression model in which constituent model parameters are given probability models, which implies that they can vary by group. These are generalisations of regression modelling.\n",
    "* *Hierarchical model*: a multilevel model where parameters are nested within one another."
   ]
  },
  {
   "cell_type": "markdown",
   "metadata": {},
   "source": [
    "## Example: Radon contamination\n",
    "\n",
    "Radon is a radioactive gas that enters homes through contact points with the ground. The EPA conducted a study of radon levels in 80,000 houses. There were two important predictors:\n",
    "\n",
    "* measurement in the basement, or ground floor (radon expected to be higher in basements)\n",
    "* uranium level (correlates positively with radon level)\n",
    "\n",
    "We will model radon levels in a single state: Minnesota. The hierarchy in this example is households, which exist within counties.\n",
    "\n",
    "### Comments\n",
    "\n",
    "In the first instance, we have a model where output is measured radon level as a function of the floor of the house at which the radon was measured (basement or ground floor), and the prevailing radon level.\n",
    "\n",
    "Our estimate of the parameter of prevailing radon level can be considered a *prediction* of the prevailing radon level.\n",
    "\n",
    "The prevailing radon level may be taken to be that for the state (counties *pooled*) or that for the county (*unpooled*), or as some intermediate representation.\n",
    "\n",
    "The model is *multilevel* because we are sampling the two parameters of prevailing radon level, and the effect of changing floor, from a probabilistic distribution.\n",
    "\n",
    "The model is *hierarchical* because households exist within counties (which exist within the state).\n",
    "\n",
    "We already have the model 'outputs': data for household radon level measurements, with their counties; and *inputs*: the floor level at which the measurements were taken. We are attempting to estimate the parameters for alternative formulations of the model, and to assess which model is the best explanation for the observed data/best predictor for prevailing radon level. With a good model, we could go forward to predict new radon levels, given a county and floor."
   ]
  },
  {
   "cell_type": "markdown",
   "metadata": {},
   "source": [
    "## Building the model\n",
    "\n",
    "We first import the necessary modules:\n",
    "\n",
    "* `pylab`: MatLab-like Python inline matrix maths and visualisation\n",
    "* `numpy`: Numerical approaches in Python\n",
    "* `pandas`: `R`-like dataframes in Python\n",
    "* `seaborn`: prettier graphics than the `pylab` default\n",
    "* `pystan`: Python implementation of Stan"
   ]
  },
  {
   "cell_type": "code",
   "execution_count": 1,
   "metadata": {
    "collapsed": false
   },
   "outputs": [
    {
     "name": "stdout",
     "output_type": "stream",
     "text": [
      "Populating the interactive namespace from numpy and matplotlib\n"
     ]
    }
   ],
   "source": [
    "%pylab inline\n",
    "\n",
    "import numpy as np\n",
    "import pandas as pd\n",
    "import seaborn as sns; sns.set_context('notebook')\n",
    "import pystan"
   ]
  },
  {
   "cell_type": "markdown",
   "metadata": {},
   "source": [
    "### Data import and cleanup"
   ]
  },
  {
   "cell_type": "markdown",
   "metadata": {},
   "source": [
    "Next we import the radon data. For cleanup, we strip whitespace from column headers, restrict data to Minnesota (`MN`) and add a unique numerical identifier for each county."
   ]
  },
  {
   "cell_type": "code",
   "execution_count": 2,
   "metadata": {
    "collapsed": false
   },
   "outputs": [],
   "source": [
    "# Import radon data\n",
    "srrs2 = pd.read_csv('data/srrs2.dat')\n",
    "srrs2.columns = srrs2.columns.map(str.strip)\n",
    "\n",
    "# Make a combined state and county ID, by household\n",
    "srrs_mn = srrs2.assign(fips=srrs2.stfips * 1000 + srrs2.cntyfips)[srrs2.state == 'MN']"
   ]
  },
  {
   "cell_type": "code",
   "execution_count": 3,
   "metadata": {
    "collapsed": false
   },
   "outputs": [
    {
     "data": {
      "text/html": [
       "<div>\n",
       "<table border=\"1\" class=\"dataframe\">\n",
       "  <thead>\n",
       "    <tr style=\"text-align: right;\">\n",
       "      <th></th>\n",
       "      <th>idnum</th>\n",
       "      <th>state</th>\n",
       "      <th>state2</th>\n",
       "      <th>stfips</th>\n",
       "      <th>zip</th>\n",
       "      <th>region</th>\n",
       "      <th>typebldg</th>\n",
       "      <th>floor</th>\n",
       "      <th>room</th>\n",
       "      <th>basement</th>\n",
       "      <th>...</th>\n",
       "      <th>startdt</th>\n",
       "      <th>stopdt</th>\n",
       "      <th>activity</th>\n",
       "      <th>pcterr</th>\n",
       "      <th>adjwt</th>\n",
       "      <th>dupflag</th>\n",
       "      <th>zipflag</th>\n",
       "      <th>cntyfips</th>\n",
       "      <th>county</th>\n",
       "      <th>fips</th>\n",
       "    </tr>\n",
       "  </thead>\n",
       "  <tbody>\n",
       "    <tr>\n",
       "      <th>5080</th>\n",
       "      <td>5081</td>\n",
       "      <td>MN</td>\n",
       "      <td>MN</td>\n",
       "      <td>27</td>\n",
       "      <td>55735</td>\n",
       "      <td>5</td>\n",
       "      <td>1</td>\n",
       "      <td>1</td>\n",
       "      <td>3</td>\n",
       "      <td>N</td>\n",
       "      <td>...</td>\n",
       "      <td>12088</td>\n",
       "      <td>12288</td>\n",
       "      <td>2.2</td>\n",
       "      <td>9.7</td>\n",
       "      <td>1146.499190</td>\n",
       "      <td>1</td>\n",
       "      <td>0</td>\n",
       "      <td>1</td>\n",
       "      <td>AITKIN</td>\n",
       "      <td>27001</td>\n",
       "    </tr>\n",
       "    <tr>\n",
       "      <th>5081</th>\n",
       "      <td>5082</td>\n",
       "      <td>MN</td>\n",
       "      <td>MN</td>\n",
       "      <td>27</td>\n",
       "      <td>55748</td>\n",
       "      <td>5</td>\n",
       "      <td>1</td>\n",
       "      <td>0</td>\n",
       "      <td>4</td>\n",
       "      <td>Y</td>\n",
       "      <td>...</td>\n",
       "      <td>11888</td>\n",
       "      <td>12088</td>\n",
       "      <td>2.2</td>\n",
       "      <td>14.5</td>\n",
       "      <td>471.366223</td>\n",
       "      <td>0</td>\n",
       "      <td>0</td>\n",
       "      <td>1</td>\n",
       "      <td>AITKIN</td>\n",
       "      <td>27001</td>\n",
       "    </tr>\n",
       "    <tr>\n",
       "      <th>5082</th>\n",
       "      <td>5083</td>\n",
       "      <td>MN</td>\n",
       "      <td>MN</td>\n",
       "      <td>27</td>\n",
       "      <td>55748</td>\n",
       "      <td>5</td>\n",
       "      <td>1</td>\n",
       "      <td>0</td>\n",
       "      <td>4</td>\n",
       "      <td>Y</td>\n",
       "      <td>...</td>\n",
       "      <td>20288</td>\n",
       "      <td>21188</td>\n",
       "      <td>2.9</td>\n",
       "      <td>9.6</td>\n",
       "      <td>433.316718</td>\n",
       "      <td>0</td>\n",
       "      <td>0</td>\n",
       "      <td>1</td>\n",
       "      <td>AITKIN</td>\n",
       "      <td>27001</td>\n",
       "    </tr>\n",
       "    <tr>\n",
       "      <th>5083</th>\n",
       "      <td>5084</td>\n",
       "      <td>MN</td>\n",
       "      <td>MN</td>\n",
       "      <td>27</td>\n",
       "      <td>56469</td>\n",
       "      <td>5</td>\n",
       "      <td>1</td>\n",
       "      <td>0</td>\n",
       "      <td>4</td>\n",
       "      <td>Y</td>\n",
       "      <td>...</td>\n",
       "      <td>122987</td>\n",
       "      <td>123187</td>\n",
       "      <td>1.0</td>\n",
       "      <td>24.3</td>\n",
       "      <td>461.623670</td>\n",
       "      <td>0</td>\n",
       "      <td>0</td>\n",
       "      <td>1</td>\n",
       "      <td>AITKIN</td>\n",
       "      <td>27001</td>\n",
       "    </tr>\n",
       "    <tr>\n",
       "      <th>5084</th>\n",
       "      <td>5085</td>\n",
       "      <td>MN</td>\n",
       "      <td>MN</td>\n",
       "      <td>27</td>\n",
       "      <td>55011</td>\n",
       "      <td>3</td>\n",
       "      <td>1</td>\n",
       "      <td>0</td>\n",
       "      <td>4</td>\n",
       "      <td>Y</td>\n",
       "      <td>...</td>\n",
       "      <td>12888</td>\n",
       "      <td>13088</td>\n",
       "      <td>3.1</td>\n",
       "      <td>13.8</td>\n",
       "      <td>433.316718</td>\n",
       "      <td>0</td>\n",
       "      <td>0</td>\n",
       "      <td>3</td>\n",
       "      <td>ANOKA</td>\n",
       "      <td>27003</td>\n",
       "    </tr>\n",
       "  </tbody>\n",
       "</table>\n",
       "<p>5 rows × 26 columns</p>\n",
       "</div>"
      ],
      "text/plain": [
       "      idnum state state2  stfips    zip  region  typebldg  floor  room  \\\n",
       "5080   5081    MN     MN      27  55735       5         1      1     3   \n",
       "5081   5082    MN     MN      27  55748       5         1      0     4   \n",
       "5082   5083    MN     MN      27  55748       5         1      0     4   \n",
       "5083   5084    MN     MN      27  56469       5         1      0     4   \n",
       "5084   5085    MN     MN      27  55011       3         1      0     4   \n",
       "\n",
       "     basement  ...   startdt  stopdt  activity pcterr        adjwt  dupflag  \\\n",
       "5080        N  ...     12088   12288       2.2    9.7  1146.499190        1   \n",
       "5081        Y  ...     11888   12088       2.2   14.5   471.366223        0   \n",
       "5082        Y  ...     20288   21188       2.9    9.6   433.316718        0   \n",
       "5083        Y  ...    122987  123187       1.0   24.3   461.623670        0   \n",
       "5084        Y  ...     12888   13088       3.1   13.8   433.316718        0   \n",
       "\n",
       "      zipflag  cntyfips                county   fips  \n",
       "5080        0         1  AITKIN                27001  \n",
       "5081        0         1  AITKIN                27001  \n",
       "5082        0         1  AITKIN                27001  \n",
       "5083        0         1  AITKIN                27001  \n",
       "5084        0         3  ANOKA                 27003  \n",
       "\n",
       "[5 rows x 26 columns]"
      ]
     },
     "execution_count": 3,
     "metadata": {},
     "output_type": "execute_result"
    }
   ],
   "source": [
    "# Check data\n",
    "srrs_mn.head()"
   ]
  },
  {
   "cell_type": "markdown",
   "metadata": {},
   "source": [
    "We import uranium data for each county, creating a unique identifier for each county to match that in `srrs`."
   ]
  },
  {
   "cell_type": "code",
   "execution_count": 4,
   "metadata": {
    "collapsed": true
   },
   "outputs": [],
   "source": [
    "# Obtain the uranium level as a county-level predictor\n",
    "cty = pd.read_csv('data/cty.dat')\n",
    "cty_mn = cty[cty.st == 'MN'].copy()  # MN only data\n",
    "\n",
    "# Make a combined state and county id, by county\n",
    "cty_mn['fips'] = 1000 * cty_mn.stfips + cty_mn.ctfips"
   ]
  },
  {
   "cell_type": "code",
   "execution_count": 5,
   "metadata": {
    "collapsed": false
   },
   "outputs": [
    {
     "data": {
      "text/html": [
       "<div>\n",
       "<table border=\"1\" class=\"dataframe\">\n",
       "  <thead>\n",
       "    <tr style=\"text-align: right;\">\n",
       "      <th></th>\n",
       "      <th>stfips</th>\n",
       "      <th>ctfips</th>\n",
       "      <th>st</th>\n",
       "      <th>cty</th>\n",
       "      <th>lon</th>\n",
       "      <th>lat</th>\n",
       "      <th>Uppm</th>\n",
       "      <th>fips</th>\n",
       "    </tr>\n",
       "  </thead>\n",
       "  <tbody>\n",
       "    <tr>\n",
       "      <th>1326</th>\n",
       "      <td>27</td>\n",
       "      <td>1</td>\n",
       "      <td>MN</td>\n",
       "      <td>AITKIN</td>\n",
       "      <td>-93.415</td>\n",
       "      <td>46.608</td>\n",
       "      <td>0.502054</td>\n",
       "      <td>27001</td>\n",
       "    </tr>\n",
       "    <tr>\n",
       "      <th>1327</th>\n",
       "      <td>27</td>\n",
       "      <td>3</td>\n",
       "      <td>MN</td>\n",
       "      <td>ANOKA</td>\n",
       "      <td>-93.246</td>\n",
       "      <td>45.273</td>\n",
       "      <td>0.428565</td>\n",
       "      <td>27003</td>\n",
       "    </tr>\n",
       "    <tr>\n",
       "      <th>1328</th>\n",
       "      <td>27</td>\n",
       "      <td>5</td>\n",
       "      <td>MN</td>\n",
       "      <td>BECKER</td>\n",
       "      <td>-95.674</td>\n",
       "      <td>46.935</td>\n",
       "      <td>0.892741</td>\n",
       "      <td>27005</td>\n",
       "    </tr>\n",
       "    <tr>\n",
       "      <th>1329</th>\n",
       "      <td>27</td>\n",
       "      <td>7</td>\n",
       "      <td>MN</td>\n",
       "      <td>BELTRAMI</td>\n",
       "      <td>-94.937</td>\n",
       "      <td>47.974</td>\n",
       "      <td>0.552472</td>\n",
       "      <td>27007</td>\n",
       "    </tr>\n",
       "    <tr>\n",
       "      <th>1330</th>\n",
       "      <td>27</td>\n",
       "      <td>9</td>\n",
       "      <td>MN</td>\n",
       "      <td>BENTON</td>\n",
       "      <td>-93.998</td>\n",
       "      <td>45.699</td>\n",
       "      <td>0.866849</td>\n",
       "      <td>27009</td>\n",
       "    </tr>\n",
       "  </tbody>\n",
       "</table>\n",
       "</div>"
      ],
      "text/plain": [
       "      stfips  ctfips  st       cty     lon     lat      Uppm   fips\n",
       "1326      27       1  MN    AITKIN -93.415  46.608  0.502054  27001\n",
       "1327      27       3  MN     ANOKA -93.246  45.273  0.428565  27003\n",
       "1328      27       5  MN    BECKER -95.674  46.935  0.892741  27005\n",
       "1329      27       7  MN  BELTRAMI -94.937  47.974  0.552472  27007\n",
       "1330      27       9  MN    BENTON -93.998  45.699  0.866849  27009"
      ]
     },
     "execution_count": 5,
     "metadata": {},
     "output_type": "execute_result"
    }
   ],
   "source": [
    "# Check data\n",
    "cty_mn.head()"
   ]
  },
  {
   "cell_type": "markdown",
   "metadata": {},
   "source": [
    "It is convenient to bring all the data into a single dataframe with radon and uranium data byhousehold, so we merge on the basis of the unique county identifier, to assign uranium data across all households in a county."
   ]
  },
  {
   "cell_type": "code",
   "execution_count": 6,
   "metadata": {
    "collapsed": true
   },
   "outputs": [],
   "source": [
    "# Combine data into a single dataframe\n",
    "srrs_mn = srrs_mn.merge(cty_mn[['fips', 'Uppm']], on='fips')  # Get uranium level by household (on county basis)\n",
    "srrs_mn = srrs_mn.drop_duplicates(subset='idnum')  # Lose duplicate houses\n",
    "u = np.log(srrs_mn.Uppm)  # log-transform uranium level\n",
    "n = len(srrs_mn)  # number of households"
   ]
  },
  {
   "cell_type": "code",
   "execution_count": 7,
   "metadata": {
    "collapsed": false
   },
   "outputs": [
    {
     "data": {
      "text/html": [
       "<div>\n",
       "<table border=\"1\" class=\"dataframe\">\n",
       "  <thead>\n",
       "    <tr style=\"text-align: right;\">\n",
       "      <th></th>\n",
       "      <th>idnum</th>\n",
       "      <th>state</th>\n",
       "      <th>state2</th>\n",
       "      <th>stfips</th>\n",
       "      <th>zip</th>\n",
       "      <th>region</th>\n",
       "      <th>typebldg</th>\n",
       "      <th>floor</th>\n",
       "      <th>room</th>\n",
       "      <th>basement</th>\n",
       "      <th>...</th>\n",
       "      <th>stopdt</th>\n",
       "      <th>activity</th>\n",
       "      <th>pcterr</th>\n",
       "      <th>adjwt</th>\n",
       "      <th>dupflag</th>\n",
       "      <th>zipflag</th>\n",
       "      <th>cntyfips</th>\n",
       "      <th>county</th>\n",
       "      <th>fips</th>\n",
       "      <th>Uppm</th>\n",
       "    </tr>\n",
       "  </thead>\n",
       "  <tbody>\n",
       "    <tr>\n",
       "      <th>0</th>\n",
       "      <td>5081</td>\n",
       "      <td>MN</td>\n",
       "      <td>MN</td>\n",
       "      <td>27</td>\n",
       "      <td>55735</td>\n",
       "      <td>5</td>\n",
       "      <td>1</td>\n",
       "      <td>1</td>\n",
       "      <td>3</td>\n",
       "      <td>N</td>\n",
       "      <td>...</td>\n",
       "      <td>12288</td>\n",
       "      <td>2.2</td>\n",
       "      <td>9.7</td>\n",
       "      <td>1146.499190</td>\n",
       "      <td>1</td>\n",
       "      <td>0</td>\n",
       "      <td>1</td>\n",
       "      <td>AITKIN</td>\n",
       "      <td>27001</td>\n",
       "      <td>0.502054</td>\n",
       "    </tr>\n",
       "    <tr>\n",
       "      <th>1</th>\n",
       "      <td>5082</td>\n",
       "      <td>MN</td>\n",
       "      <td>MN</td>\n",
       "      <td>27</td>\n",
       "      <td>55748</td>\n",
       "      <td>5</td>\n",
       "      <td>1</td>\n",
       "      <td>0</td>\n",
       "      <td>4</td>\n",
       "      <td>Y</td>\n",
       "      <td>...</td>\n",
       "      <td>12088</td>\n",
       "      <td>2.2</td>\n",
       "      <td>14.5</td>\n",
       "      <td>471.366223</td>\n",
       "      <td>0</td>\n",
       "      <td>0</td>\n",
       "      <td>1</td>\n",
       "      <td>AITKIN</td>\n",
       "      <td>27001</td>\n",
       "      <td>0.502054</td>\n",
       "    </tr>\n",
       "    <tr>\n",
       "      <th>2</th>\n",
       "      <td>5083</td>\n",
       "      <td>MN</td>\n",
       "      <td>MN</td>\n",
       "      <td>27</td>\n",
       "      <td>55748</td>\n",
       "      <td>5</td>\n",
       "      <td>1</td>\n",
       "      <td>0</td>\n",
       "      <td>4</td>\n",
       "      <td>Y</td>\n",
       "      <td>...</td>\n",
       "      <td>21188</td>\n",
       "      <td>2.9</td>\n",
       "      <td>9.6</td>\n",
       "      <td>433.316718</td>\n",
       "      <td>0</td>\n",
       "      <td>0</td>\n",
       "      <td>1</td>\n",
       "      <td>AITKIN</td>\n",
       "      <td>27001</td>\n",
       "      <td>0.502054</td>\n",
       "    </tr>\n",
       "    <tr>\n",
       "      <th>3</th>\n",
       "      <td>5084</td>\n",
       "      <td>MN</td>\n",
       "      <td>MN</td>\n",
       "      <td>27</td>\n",
       "      <td>56469</td>\n",
       "      <td>5</td>\n",
       "      <td>1</td>\n",
       "      <td>0</td>\n",
       "      <td>4</td>\n",
       "      <td>Y</td>\n",
       "      <td>...</td>\n",
       "      <td>123187</td>\n",
       "      <td>1.0</td>\n",
       "      <td>24.3</td>\n",
       "      <td>461.623670</td>\n",
       "      <td>0</td>\n",
       "      <td>0</td>\n",
       "      <td>1</td>\n",
       "      <td>AITKIN</td>\n",
       "      <td>27001</td>\n",
       "      <td>0.502054</td>\n",
       "    </tr>\n",
       "    <tr>\n",
       "      <th>4</th>\n",
       "      <td>5085</td>\n",
       "      <td>MN</td>\n",
       "      <td>MN</td>\n",
       "      <td>27</td>\n",
       "      <td>55011</td>\n",
       "      <td>3</td>\n",
       "      <td>1</td>\n",
       "      <td>0</td>\n",
       "      <td>4</td>\n",
       "      <td>Y</td>\n",
       "      <td>...</td>\n",
       "      <td>13088</td>\n",
       "      <td>3.1</td>\n",
       "      <td>13.8</td>\n",
       "      <td>433.316718</td>\n",
       "      <td>0</td>\n",
       "      <td>0</td>\n",
       "      <td>3</td>\n",
       "      <td>ANOKA</td>\n",
       "      <td>27003</td>\n",
       "      <td>0.428565</td>\n",
       "    </tr>\n",
       "  </tbody>\n",
       "</table>\n",
       "<p>5 rows × 27 columns</p>\n",
       "</div>"
      ],
      "text/plain": [
       "   idnum state state2  stfips    zip  region  typebldg  floor  room basement  \\\n",
       "0   5081    MN     MN      27  55735       5         1      1     3        N   \n",
       "1   5082    MN     MN      27  55748       5         1      0     4        Y   \n",
       "2   5083    MN     MN      27  55748       5         1      0     4        Y   \n",
       "3   5084    MN     MN      27  56469       5         1      0     4        Y   \n",
       "4   5085    MN     MN      27  55011       3         1      0     4        Y   \n",
       "\n",
       "     ...     stopdt activity  pcterr        adjwt  dupflag  zipflag  cntyfips  \\\n",
       "0    ...      12288      2.2     9.7  1146.499190        1        0         1   \n",
       "1    ...      12088      2.2    14.5   471.366223        0        0         1   \n",
       "2    ...      21188      2.9     9.6   433.316718        0        0         1   \n",
       "3    ...     123187      1.0    24.3   461.623670        0        0         1   \n",
       "4    ...      13088      3.1    13.8   433.316718        0        0         3   \n",
       "\n",
       "                 county   fips      Uppm  \n",
       "0  AITKIN                27001  0.502054  \n",
       "1  AITKIN                27001  0.502054  \n",
       "2  AITKIN                27001  0.502054  \n",
       "3  AITKIN                27001  0.502054  \n",
       "4  ANOKA                 27003  0.428565  \n",
       "\n",
       "[5 rows x 27 columns]"
      ]
     },
     "execution_count": 7,
     "metadata": {},
     "output_type": "execute_result"
    }
   ],
   "source": [
    "# Check data\n",
    "srrs_mn.head()"
   ]
  },
  {
   "cell_type": "markdown",
   "metadata": {},
   "source": [
    "We create a dictionary associating each county with a unique index code, for use in Stan."
   ]
  },
  {
   "cell_type": "code",
   "execution_count": 8,
   "metadata": {
    "collapsed": true
   },
   "outputs": [],
   "source": [
    "# Index counties with a lookup dictionary\n",
    "srrs_mn.county = srrs_mn.county.str.strip()\n",
    "mn_counties = srrs_mn.county.unique()\n",
    "counties = len(mn_counties)\n",
    "county_lookup = dict(zip(mn_counties, range(len(mn_counties))))"
   ]
  },
  {
   "cell_type": "markdown",
   "metadata": {},
   "source": [
    "For construction of the Stan model, it is convenient to have the relevant variables as local copies - this aids readability.\n",
    "\n",
    "* index code for each county\n",
    "* radon activity\n",
    "* log radon activity\n",
    "* which floor measurement was taken"
   ]
  },
  {
   "cell_type": "code",
   "execution_count": 9,
   "metadata": {
    "collapsed": false
   },
   "outputs": [],
   "source": [
    "# Make local copies of variables\n",
    "county = srrs_mn['county_code'] = srrs_mn.county.replace(county_lookup).values\n",
    "radon = srrs_mn.activity\n",
    "srrs_mn['log_radon'] = log_radon = np.log(radon + 0.1).values\n",
    "floor_measure = srrs_mn.floor.values"
   ]
  },
  {
   "cell_type": "markdown",
   "metadata": {},
   "source": [
    "## Modelling distribution of radon in MN\n",
    "\n",
    "Visual inspection of the variation in (log) observed radon levels shows a broad range of values. We aim to determine the contributions of the prevailing radon level and the floor at which radon level is measured, to produce this distribution of observed values."
   ]
  },
  {
   "cell_type": "code",
   "execution_count": 10,
   "metadata": {
    "collapsed": false
   },
   "outputs": [
    {
     "data": {
      "image/png": "[encoded data removed]",
      "text/plain": [
       "<matplotlib.figure.Figure at 0x116784eb8>"
      ]
     },
     "metadata": {},
     "output_type": "display_data"
    }
   ],
   "source": [
    "srrs_mn.activity.apply(lambda x: np.log(x + 0.1)).hist(bins=25);"
   ]
  },
  {
   "cell_type": "markdown",
   "metadata": {},
   "source": [
    "## Conventional approaches\n",
    "\n",
    "Two conventional alternatives to modelling, *pooling* and *not pooling* represent two extremes of a [tradeoff between variance and bias](http://scott.fortmann-roe.com/docs/BiasVariance.html).\n",
    "\n",
    "### The bias-variance tradeoff\n",
    "\n",
    "Where the variable we are trying to predict is $Y$, as a function of covariates $X$, we assume a relationship $Y = f(X) + \\epsilon$ where the error term $\\epsilon$ is distributed normally with mean zero: $\\epsilon \\sim N(0, \\sigma_{\\epsilon})$.\n",
    "\n",
    "We estimate a *model* $\\hat{f}(X)$ of $f(X)$ using some technique. This gives us squared prediction error: $\\textrm{Err}(x) = E[(Y − \\hat{f}(x))^2]$. That squared error can be decomposed into:\n",
    "\n",
    "$$\\textrm{Err}(x)=(E[\\hat{f} (x)] − f(x))^2 + E[(\\hat{f}(x) − E[\\hat{f}(x)])^2] + \\sigma^2_e$$\n",
    "\n",
    "where\n",
    "\n",
    "* $E[\\hat{f} (x)] − f(x))^2$ is the square of the difference between the model $\\hat{f}(x)$ and the 'true' relationship $f(x)$, i.e. the square of the *bias*\n",
    "* $E[(\\hat{f}(x) − E[\\hat{f}(x)])^2]$ is the square of the difference between the mean behaviour of the model and the observed behaviour of this model, i.e. the square of the *variance*\n",
    "* $\\sigma^2_e$ is the noise of the 'true' relationship that cannot be captured in any model, i.e. the *irreducible error*\n",
    "\n",
    "With a known true model, and an infinite amount of data, it is in principle possible to reduce both *bias* and *variance* to zero. In reality, both sources of error exist, and we choose to minimise *bias* and/or *variance*."
   ]
  },
  {
   "cell_type": "markdown",
   "metadata": {},
   "source": [
    "### The trade-off in the radon model\n",
    "\n",
    "Taking $y = \\log(\\textrm{radon})$, floor measurements (basement or ground) as $x$, where $i$ indicates the house, and $j[i]$ is the county to which a house 'belongs'. Then $\\alpha$ is the radon level across all counties, and $\\alpha_{j[i]}$ is the radon level in a single county; $\\beta$ is the influence of the choice of floor at which measurement is made; and $\\epsilon$ is some other error (measurement error, temporal variation in a house, or variation among houses).\n",
    "\n",
    "We take two approaches:\n",
    "\n",
    "* **Complete pooling** - treat all counties the same, and estimate a single radon level: $y_i = \\alpha + \\beta x_i + \\epsilon_i$\n",
    "* **No pooling** - treat each county independently: $y_i = \\alpha_{j[i]} + \\beta x_i + \\epsilon_i$\n",
    "\n",
    "When we do not pool, we will likely obtain quite different parameter estimates $\\alpha_{j[i]}$ for each county - especially when there are few observations in a county. As new data is gathered, these estimates are likely to change radically. This is therefore a model with *high variance*.\n",
    "\n",
    "Alternatively, by pooling all counties, we will obtain a single estimate for $\\alpha$, but this value may deviate quite far from the true situation in some or all counties. This is therefore a model with *high bias*.\n",
    "\n",
    "So, if we treat all counties as the same, we have a biased estimate, but if we treat them as individuals, we have high variance - the *bias-variance tradeoff*. It may be the case that neither extreme produces a good model for the real behaviour: models that minimise bias to produce a high variance error are *overfit*; those that minimise variance to produce a strong bias error are *underfit*."
   ]
  },
  {
   "cell_type": "markdown",
   "metadata": {},
   "source": [
    "### Specifying the pooled model in Stan\n",
    "\n",
    "To build a model in Stan, we need to define `data`, `parameters`, and the `model` itself. This is done by creating strings in the Stan language, rather than having an API that provides a constructor for the model.\n",
    "\n",
    "We construct the `data` block to comprise the number of samples (`N`, `int`), with vectors of log-radon measurements (`y`, a `vector` of length `N`) and the floor measurement covariates (`x`, `vector`, length `N`)."
   ]
  },
  {
   "cell_type": "code",
   "execution_count": 11,
   "metadata": {
    "collapsed": true
   },
   "outputs": [],
   "source": [
    "# Construct the data block.\n",
    "pooled_data = \"\"\"\n",
    "data {\n",
    "  int<lower=0> N;\n",
    "  vector[N] x;\n",
    "  vector[N] y;\n",
    "}\n",
    "\"\"\""
   ]
  },
  {
   "cell_type": "markdown",
   "metadata": {},
   "source": [
    "Next we initialise parameters, which here are linear model coefficients (`beta`, a `vector` of length 2) that represent both $\\alpha$ and $\\beta$ in the pooled model definition, as `beta[1]` and `beta[2]` are assumed to lie on a Normal distribution, and the Normal distribution scale parameter `sigma` defining errors in the model's prediction of the output (`y`, defined later), which is constrained to be positive."
   ]
  },
  {
   "cell_type": "code",
   "execution_count": 12,
   "metadata": {
    "collapsed": true
   },
   "outputs": [],
   "source": [
    "# Initialise parameters\n",
    "pooled_parameters = \"\"\"\n",
    "parameters {\n",
    "    vector[2] beta;\n",
    "    real<lower=0> sigma;\n",
    "}\n",
    "\"\"\""
   ]
  },
  {
   "cell_type": "markdown",
   "metadata": {},
   "source": [
    "Finally we specify the model, with log(radon) measurements as a normal sample, having a mean that is a function of the choice of floor at which the measurement was made, $y \\sim N(\\beta[1] + \\beta[2]x, \\sigma_e)$"
   ]
  },
  {
   "cell_type": "code",
   "execution_count": null,
   "metadata": {
    "collapsed": true
   },
   "outputs": [],
   "source": [
    "pooled_model = \"\"\"\n",
    "model {\n",
    "  y ~ normal(beta[1] + beta[2] * x, sigma);\n",
    "}\n",
    "\"\"\""
   ]
  },
  {
   "cell_type": "markdown",
   "metadata": {},
   "source": [
    "### Running the pooled model in Stan\n",
    "\n",
    "We need to map Python variables to those in the `stan` model, and pass the data, parameters and model strings above to `stan`. We also need to specify how many iterations of sampling we want, and how many parallel chains to sample (here, 1000 iterations of 2 chains).\n",
    "\n",
    "This is where explicitly-named local variables are convenient for definition of Stan models.\n",
    "\n",
    "Calling `pystan.stan` doesn't just define the model, ready to fit - it runs the fitting immediately."
   ]
  },
  {
   "cell_type": "code",
   "execution_count": null,
   "metadata": {
    "collapsed": true
   },
   "outputs": [],
   "source": [
    "pooled_data_dict = {'N': len(log_radon),\n",
    "                    'x': floor_measure,\n",
    "                    'y': log_radon}\n",
    "\n",
    "pooled_fit = pystan.stan(model_code=pooled_data + pooled_parameters + pooled_model,\n",
    "                         data=pooled_data_dict,\n",
    "                         iter=1000,\n",
    "                         chains=2)"
   ]
  },
  {
   "cell_type": "markdown",
   "metadata": {},
   "source": [
    "Once the fit has been run, the sample can be extracted for visualisation and summarisation. Specifying `permuted=True` means that all fitting chains are merged and warmup samples are discarded and that a dictionary is returned, with samples for each parameter:"
   ]
  },
  {
   "cell_type": "code",
   "execution_count": null,
   "metadata": {
    "collapsed": true
   },
   "outputs": [],
   "source": [
    "# Collect the sample\n",
    "pooled_sample = pooled_fit.extract(permuted=True)"
   ]
  },
  {
   "cell_type": "markdown",
   "metadata": {},
   "source": [
    "The output is an `OrderedDict` with two keys of interest to us: `beta` and `sigma`. `sigma` describes the estimated error term, and `beta` describes the estimated values of $\\alpha$ and $\\beta$ for each iteration:"
   ]
  },
  {
   "cell_type": "code",
   "execution_count": null,
   "metadata": {
    "collapsed": false
   },
   "outputs": [],
   "source": [
    "# Inspect the sample\n",
    "pooled_sample['beta']"
   ]
  },
  {
   "cell_type": "markdown",
   "metadata": {},
   "source": [
    "While it can be very interesting to see the results for individual iterations (and how they vary), for now we are interested in the mean values of these estimates:"
   ]
  },
  {
   "cell_type": "code",
   "execution_count": null,
   "metadata": {
    "collapsed": false
   },
   "outputs": [],
   "source": [
    "# Get mean values for parameters, from the sample\n",
    "# b0 = common radon value across counties (alpha)\n",
    "# m0 = variation in radon level with change in floor (beta)\n",
    "b0, m0 = pooled_sample['beta'].T.mean(1)"
   ]
  },
  {
   "cell_type": "code",
   "execution_count": null,
   "metadata": {
    "collapsed": false
   },
   "outputs": [],
   "source": [
    "# What are the fitted parameters\n",
    "print(\"alpha: {0}, beta: {1}\".format(b0, m0))"
   ]
  },
  {
   "cell_type": "markdown",
   "metadata": {},
   "source": [
    "We can visualise how well this pooled model fits the observed data:"
   ]
  },
  {
   "cell_type": "code",
   "execution_count": null,
   "metadata": {
    "collapsed": false
   },
   "outputs": [],
   "source": [
    "# Plot the fitted model (red line) against observed values (blue points)\n",
    "plt.scatter(srrs_mn.floor, np.log(srrs_mn.activity + 0.1))\n",
    "xvals = np.linspace(-0.1, 1.2)\n",
    "plt.plot(xvals, m0 * xvals + b0, 'r--')\n",
    "plt.title(\"Fitted model\")\n",
    "plt.xlabel(\"Floor\")\n",
    "plt.ylabel(\"log(radon)\");"
   ]
  },
  {
   "cell_type": "markdown",
   "metadata": {},
   "source": [
    "The answer is: not terribly badly (the fitted line runs convincingly through the centre of the data, and plausibly describes the trend), but not terribly well, either. The observed points vary widely about the fitted model, implying that the prevailing radon level varies quite widely, and we might expect different gradients if we chose different subsets of the data.\n",
    "\n",
    "The main error in this model fit is due to *bias*, because the pooling approach is an an inaccurate representation of the underlying radon level, taken across all measurements."
   ]
  },
  {
   "cell_type": "markdown",
   "metadata": {},
   "source": [
    "### Specifying the unpooled model in Stan\n",
    "\n",
    "For the unpooled model, we have the parameter $\\alpha_{j[i]}$, representing a list of (independent) mean values, one for each county. Otherwise the model is the same as for the pooled example, with shared parameters for the effect of which floor is being measured, and the standard deviation of the error.\n",
    "\n",
    "We construct the `data`, `parameters` and `model` blocks in a similar way to before. We define the number of samples (`N`, `int`), and two vectors of log-radon measurements (`y`, length `N`) and floor measurement covariates (`x`, length `N`). The main difference to before is that we define a list of counties (these are the indices 1..85 defined above, rather than county names), one for each sample:"
   ]
  },
  {
   "cell_type": "code",
   "execution_count": null,
   "metadata": {
    "collapsed": true
   },
   "outputs": [],
   "source": [
    "unpooled_data = \"\"\"\n",
    "data {\n",
    "  int<lower=0> N;\n",
    "  int<lower=1, upper=85> county[N];\n",
    "  vector[N] x;\n",
    "  vector[N] y;\n",
    "}\n",
    "\"\"\""
   ]
  },
  {
   "cell_type": "markdown",
   "metadata": {},
   "source": [
    "We define three parameters: $\\alpha_{j[i]}$ - one radon level per county (`a` - as a vector of length 85, one value per county); change in radon level by floor, $\\beta$ (`beta`, a real value), and the Normal distribution scale parameter `sigma`, as before:"
   ]
  },
  {
   "cell_type": "code",
   "execution_count": null,
   "metadata": {
    "collapsed": true
   },
   "outputs": [],
   "source": [
    "unpooled_parameters = \"\"\"\n",
    "parameters {\n",
    "  vector[85] a;\n",
    "  real beta;\n",
    "  real<lower=0, upper=100> sigma;\n",
    "}\n",
    "\"\"\""
   ]
  },
  {
   "cell_type": "markdown",
   "metadata": {},
   "source": [
    "We also define transformed parameters, for convenience. This defines a new variable $\\hat{y}$ (`y_hat`, a `vector` with one value per sample) which is our estimate/prediction of log(radon) value per household. This could equally well be done in the model block - we don't *need* to generate a transformed parameter, but for more complex models this is a useful technique to improve readability and maintainability."
   ]
  },
  {
   "cell_type": "code",
   "execution_count": null,
   "metadata": {
    "collapsed": true
   },
   "outputs": [],
   "source": [
    "unpooled_transformed_parameters = \"\"\"\n",
    "transformed parameters {\n",
    "  vector[N] y_hat;\n",
    "  \n",
    "  for (i in 1:N)\n",
    "    y_hat[i] <- beta * x[i] + a[county[i]];\n",
    "}\n",
    "\"\"\""
   ]
  },
  {
   "cell_type": "markdown",
   "metadata": {},
   "source": [
    "Using this transformed parameter, the model form is now $y \\sim N(\\hat{y}, \\sigma_e)$, making explicit that we are fitting parameters that result in the model *predicting* a household radon measurement, and we are estimating the error of this prediction against the observed values:"
   ]
  },
  {
   "cell_type": "code",
   "execution_count": null,
   "metadata": {
    "collapsed": true
   },
   "outputs": [],
   "source": [
    "unpooled_model = \"\"\"\n",
    "model {\n",
    "  y ~ normal(y_hat, sigma);\n",
    "}\n",
    "\"\"\""
   ]
  },
  {
   "cell_type": "markdown",
   "metadata": {},
   "source": [
    "### Running the unpooled model in Stan\n",
    "\n",
    "We again map Python variables to those used in the `stan` model, then pass the data, parameters (transformed and untransformed) and the model to `stan`. We again specify 1000 iterations of 2 chains.\n",
    "\n",
    "Note that we have to offset our Python indices for counties by 1, as Python counts from zero, but Stan counts from 1."
   ]
  },
  {
   "cell_type": "code",
   "execution_count": null,
   "metadata": {
    "collapsed": false
   },
   "outputs": [],
   "source": [
    "# Map data\n",
    "unpooled_data_dict = {'N': len(log_radon),\n",
    "                      'county': county + 1,  # Stan counts start from 1\n",
    "                      'x': floor_measure,\n",
    "                      'y': log_radon}\n",
    "\n",
    "# Fit model\n",
    "unpooled_fit = pystan.stan(model_code=unpooled_data + unpooled_parameters +\n",
    "                                       unpooled_transformed_parameters + unpooled_model,\n",
    "                            data=unpooled_data_dict,\n",
    "                            iter=1000,\n",
    "                            chains=2)"
   ]
  },
  {
   "cell_type": "markdown",
   "metadata": {},
   "source": [
    "We can extract the sample from the fit for visualisation and summarisation. This time we do not use the `permuted=True` option. This returns a `StanFit4Model` object, from which we can extract the fitted estimates for a parameter using indexing, like a dictionary, e.g. `unpooled_fit['beta']`, and this will return a `numpy` `ndarray` of values. For $\\alpha$ (`a`) we get a 1000x85 array, for $\\beta$ (`beta`) we get a 1000x1 array. Mean and standard deviation (and other summary statistics) can be calculated from these.\n",
    "\n",
    "When extracting vectors of $\\alpha_{j[i]}$ (radon levels per county) and the associated standard errors, we use a `pd.Series` object, for compatibility with `pandas`. This allows us to specify an index, which is the list of county names in `mn_counties`."
   ]
  },
  {
   "cell_type": "code",
   "execution_count": null,
   "metadata": {
    "collapsed": false
   },
   "outputs": [],
   "source": [
    "# Extract fit of radon by county\n",
    "unpooled_estimates = pd.Series(unpooled_fit['a'].mean(0), index=mn_counties)\n",
    "unpooled_se = pd.Series(unpooled_fit['a'].std(0), index=mn_counties)"
   ]
  },
  {
   "cell_type": "code",
   "execution_count": null,
   "metadata": {
    "collapsed": false
   },
   "outputs": [],
   "source": [
    "# Inspect estimates\n",
    "unpooled_estimates.head()"
   ]
  },
  {
   "cell_type": "markdown",
   "metadata": {},
   "source": [
    "To inspect the variation in predicted radon levels at county resolution, we can plot the mean of each estimate with its associated standard error. To structure this visually, we'll reorder the counties such that we plot counties from lowest to highest."
   ]
  },
  {
   "cell_type": "code",
   "execution_count": null,
   "metadata": {
    "collapsed": false
   },
   "outputs": [],
   "source": [
    "# Get row order of estimates as an index: low to high radon\n",
    "order = unpooled_estimates.sort_values().index\n",
    "\n",
    "# Plot mean radon estimates with stderr, following low to high radon order\n",
    "plt.scatter(range(len(unpooled_estimates)), unpooled_estimates[order])\n",
    "for i, m, se in zip(range(len(unpooled_estimates)),\n",
    "                    unpooled_estimates[order],\n",
    "                    unpooled_se[order]):\n",
    "    plt.plot([i,i], [m - se, m + se], 'b-')\n",
    "plt.xlim(-1, 86)\n",
    "plt.ylim(-1, 4)\n",
    "plt.xlabel('Ordered county')\n",
    "plt.ylabel('Radon estimate');"
   ]
  },
  {
   "cell_type": "markdown",
   "metadata": {},
   "source": [
    "From this visual inspection, we can see that there is one county with a relatively low predicted radon level, and about five with relatively high levels. This reinforces our suggestion that a pooled estimate is likely to exhibit significant *bias*."
   ]
  },
  {
   "cell_type": "markdown",
   "metadata": {},
   "source": [
    "### Plot comparison of pooled and unpooled estimates\n",
    "\n",
    "We can make direct visual comparisons between pooled and unpooled estimates for all counties, but here we do so for a specific subset:"
   ]
  },
  {
   "cell_type": "code",
   "execution_count": null,
   "metadata": {
    "collapsed": false
   },
   "outputs": [],
   "source": [
    "# Define subset of counties\n",
    "sample_counties = ('LAC QUI PARLE', 'AITKIN', 'KOOCHICHING',\n",
    "                   'DOUGLAS', 'CLAY', 'STEARNS', 'RAMSEY',\n",
    "                   'ST LOUIS')\n",
    "\n",
    "# Make plot\n",
    "fig, axes = plt.subplots(2, 4, figsize=(12, 6),\n",
    "                         sharex=True, sharey=True)\n",
    "axes = axes.ravel()  # turn axes into a flattened array\n",
    "m = unpooled_fit['beta'].mean(0)\n",
    "for i, c in enumerate(sample_counties):\n",
    "    # Get unpooled estimates and set common x values\n",
    "    b = unpooled_estimates[c]\n",
    "    xvals = np.linspace(-0.2, 1.2)\n",
    "    \n",
    "    # Plot household data\n",
    "    x = srrs_mn.floor[srrs_mn.county == c]\n",
    "    y = srrs_mn.log_radon[srrs_mn.county == c]\n",
    "    axes[i].scatter(x + np.random.randn(len(x)) * 0.01, y, alpha=0.4)\n",
    "    \n",
    "    # Plot models\n",
    "    axes[i].plot(xvals, m * xvals + b)  # unpooled\n",
    "    axes[i].plot(xvals, m0 * xvals + b0, 'r--')  # pooled\n",
    "    \n",
    "    # Add labels and ticks\n",
    "    axes[i].set_xticks([0, 1])\n",
    "    axes[i].set_xticklabels(['basement', 'floor'])\n",
    "    axes[i].set_ylim(-1, 3)\n",
    "    axes[i].set_title(c)\n",
    "    if not i % 2:\n",
    "        axes[i].set_ylabel('log radon level')"
   ]
  },
  {
   "cell_type": "markdown",
   "metadata": {},
   "source": [
    "By visual inspection, we can see that using unpooled county estimates for prevailing radon level has resulted in models that deviate from the pooled estimates, correcting for its *bias*. However, we can also see that for counties with few observations, the fitted estimates track the observations very closely, suggesting that there has been *overfitting*. The attempt to minimise error due to *bias* has resulted in the introduction of greater error due to *variance* in the dataset."
   ]
  },
  {
   "cell_type": "markdown",
   "metadata": {},
   "source": [
    "### Conclusion\n",
    "\n",
    "Neither model does perfectly:\n",
    "\n",
    "* For identification of counties with a predicted prevailing high radon level, pooling is useless (because all counties are modelled with the same level)\n",
    "* However, we ought not to trust any unpooled estimates that were produced using few observations on a county\n",
    "\n",
    "Ideally, we would have an intermediate form of model that optimally minimises the errors due to both *bias* and *variance*."
   ]
  },
  {
   "cell_type": "markdown",
   "metadata": {
    "collapsed": true
   },
   "source": [
    "## Pooling and Multilevel/Hierarchical Models\n",
    "\n",
    "### pooled model\n",
    "\n",
    "When we *pool* data, we imply that they are sampled from the same model. This ignores all variation (other than sampling variation) among the units being sampled. That is to say, observations $y_1, y_2, \\ldots, y_k$ share common parameter(s) $\\theta$:\n",
    "\n",
    "![pooled model](images/pooled_model.png)\n",
    "\n",
    "### unpooled model\n",
    "\n",
    "If we analyse our data with an *unpooled* model, we separate our data out into groups (which may be as extreme as one group per sample), which implies that the groups are sampled independently from separate models because the differences between sampling units are too great for them to be reasonably combined. That is to say, observations (or grouped observations) $y_1, y_2, \\ldots, y_k$ have independent parameters $\\theta_1, \\theta_2, \\ldots, \\theta_k$.\n",
    "\n",
    "![unpooled model](images/unpooled_model.png)\n",
    "\n",
    "### partial pooling/hierarchical modelling\n",
    "\n",
    "In a *hierarchical*, or *partial pooling* model, model parameters are instead viewed as a sample from a population distribution of parameters, so the unpooled model parameters $\\theta_1, \\theta_2, \\ldots, \\theta_k$ can be sampled from a single distribution $N(\\mu, \\sigma^2)$.\n",
    "\n",
    "![partial pooled model](images/partial_pooled_model.png)\n",
    "\n",
    "One of the great advantages of Bayesian modelling (as opposed to linear regression modelling) is the relative ease with which one can specify multilevel models and fit them using Hamiltonian Monte Carlo."
   ]
  },
  {
   "cell_type": "markdown",
   "metadata": {},
   "source": [
    "## Partial Pooling\n",
    "\n",
    "### A simple model\n",
    "\n",
    "The simplest possible partial pooling model for the radon dataset is one that estimates radon levels, with no other predictors (i.e. ignoring the effect of floor). This is a compromise between pooled (mean of all counties) and unpooled (county-level means), and approximates a *weighted average* (by sample size) of unpooled county means, and the pooled mean:\n",
    "\n",
    "$$\\hat{\\alpha} \\approx \\frac{(n_j/\\sigma_y^2)\\bar{y}_j + (1/\\sigma_{\\alpha}^2)\\bar{y}}{(n_j/\\sigma_y^2) + (1/\\sigma_{\\alpha}^2)}$$\n",
    "\n",
    "* $\\hat{\\alpha}$ - partially-pooled estimate of radon level\n",
    "* $n_j$ - number of samples in county $j$\n",
    "* $\\bar{y}_j$ - estimated mean for county $j$\n",
    "* $\\sigma_y^2$ - s.e. of $\\bar{y}_j$, variability of the county mean\n",
    "* $\\bar{y}$ - pooled mean estimate for $\\alpha$\n",
    "* $\\sigma_{\\alpha}^2$ - s.e. of $\\bar{y}$"
   ]
  },
  {
   "cell_type": "code",
   "execution_count": null,
   "metadata": {
    "collapsed": true
   },
   "outputs": [],
   "source": []
  }
 ],
 "metadata": {
  "kernelspec": {
   "display_name": "Python 3",
   "language": "python",
   "name": "python3"
  },
  "language_info": {
   "codemirror_mode": {
    "name": "ipython",
    "version": 3
   },
   "file_extension": ".py",
   "mimetype": "text/x-python",
   "name": "python",
   "nbconvert_exporter": "python",
   "pygments_lexer": "ipython3",
   "version": "3.5.2"
  }
 },
 "nbformat": 4,
 "nbformat_minor": 0
}
